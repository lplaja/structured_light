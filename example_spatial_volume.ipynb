{
  "metadata": {
    "kernelspec": {
      "name": "python",
      "display_name": "Python (Pyodide)",
      "language": "python"
    },
    "language_info": {
      "codemirror_mode": {
        "name": "python",
        "version": 3
      },
      "file_extension": ".py",
      "mimetype": "text/x-python",
      "name": "python",
      "nbconvert_exporter": "python",
      "pygments_lexer": "ipython3",
      "version": "3.8"
    }
  },
  "nbformat_minor": 5,
  "nbformat": 4,
  "cells": [
    {
      "id": "536c0dcf-137a-4b8e-864b-81b187021972",
      "cell_type": "code",
      "source": "import numpy as np\nimport matplotlib.pyplot as plt\nfrom IPython.display import display\nfrom scipy.special import genlaguerre\n\nimport piplite\nawait piplite.install(\"ipywidgets\")",
      "metadata": {
        "trusted": true
      },
      "outputs": [],
      "execution_count": 3
    },
    {
      "id": "6ad0a744",
      "cell_type": "code",
      "source": "#%matplotlib inline\n\nfrom fieldlib.field import Field, FieldSuperposition\nfrom fieldlib.spatial.volume import SpatialVolume\nfrom fieldlib.utils.plotting import density_plot_with_polarization\n\n# Define the spatial volume\ntarget_volume = SpatialVolume(\n    xlim=(-2e-3, 2e-3), ylim=(-2e-3, 2e-3), zlim=(-20, 20),\n    nx=300, ny=300, nz=600\n)\n\n# Define two Laguerre-Gauss beams with different polarizations\nbeam1 = Field(\n    beam_type='LaguerreGauss',\n    wavelength=633e-9,\n    amplitude=1,\n    waist=1e-3,\n    volume=target_volume,\n    mode_indices=(0, 1),  # (p, l)\n    polarization='R'\n)\n\nbeam2 = Field(\n    beam_type='LaguerreGauss',\n    wavelength=633e-9,\n    amplitude=1,\n    waist=1e-3,\n    volume=target_volume,\n    mode_indices=(0, -1),  # (p, l)\n    polarization='R'\n)\n\n# Superpose the two fields\nsuperposed = FieldSuperposition([beam1, beam2])\n\n# Show full field + polarization plots\nsuperposed.plot()\n\n\n",
      "metadata": {
        "trusted": true
      },
      "outputs": [
        {
          "output_type": "display_data",
          "data": {
            "text/plain": "VBox(children=(HBox(children=(VBox(children=(FloatSlider(value=0.03338898163605819, description='z:', max=20.0…",
            "application/vnd.jupyter.widget-view+json": {
              "version_major": 2,
              "version_minor": 0,
              "model_id": "e01f7eae4257443aa61c3da739ce3507"
            }
          },
          "metadata": {}
        }
      ],
      "execution_count": 4
    },
    {
      "id": "e59e9b7f",
      "cell_type": "code",
      "source": "from scipy.special import genlaguerre",
      "metadata": {
        "trusted": true
      },
      "outputs": [],
      "execution_count": 3
    },
    {
      "id": "2f7cb396-d170-4f20-ae58-03d6f0b6273d",
      "cell_type": "code",
      "source": "",
      "metadata": {
        "trusted": true
      },
      "outputs": [],
      "execution_count": null
    }
  ]
}