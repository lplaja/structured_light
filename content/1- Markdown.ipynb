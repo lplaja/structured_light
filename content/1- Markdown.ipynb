{
 "cells": [
  {
   "cell_type": "markdown",
   "metadata": {},
   "source": [
    "\n",
    "\n",
    "# Basic Markdown\n",
    "\n",
    "Markdown is a high-level language for text formatting, base in html and latex. in this notebook we shall see:\n",
    "\n",
    "- The two different cell types: _code_ and _markdown_\n",
    "- The basic markdown formatting syntax\n",
    "- Some advanced formatting that uses _html_ aloong with _markdown_"
   ]
  },
  {
   "cell_type": "markdown",
   "metadata": {},
   "source": [
    "## Cell types\n",
    "\n",
    "Jupyter notebooks contain cells including text (_markdown_) or code for execution (_code_). The _code_ cell execute python sentences while the _markdown_ cells contain text notes.\n",
    "\n",
    "This current cell is a _markdown_ cell. Double click on it to see its contents, next press `enter` (`shift` + `return`) to execute the cell and show the formatted text.\n",
    "\n",
    "2+2\n",
    "\n",
    "The next cell is a _code_ cell. You can execute it also pressing `enter` (`shift` + `return`)"
   ]
  },
  {
   "cell_type": "code",
   "execution_count": null,
   "metadata": {},
   "outputs": [
    {
     "data": {
      "text/plain": [
       "4"
      ]
     },
     "execution_count": 1,
     "metadata": {},
     "output_type": "execute_result"
    }
   ],
   "source": [
    "# This is a code cell\n",
    "# execute using <enter> o <shift><return>\n",
    "\n",
    "2+2"
   ]
  },
  {
   "cell_type": "code",
   "execution_count": null,
   "metadata": {},
   "outputs": [
    {
     "ename": "SyntaxError",
     "evalue": "invalid syntax (4079240630.py, line 1)",
     "output_type": "error",
     "traceback": [
      "\u001b[0;36m  Cell \u001b[0;32mIn[1], line 1\u001b[0;36m\u001b[0m\n\u001b[0;31m    This is a text in a code cell, so if you execute it, it will give an error.\u001b[0m\n\u001b[0m              ^\u001b[0m\n\u001b[0;31mSyntaxError\u001b[0m\u001b[0;31m:\u001b[0m invalid syntax\n"
     ]
    }
   ],
   "source": [
    "This is a text in a code cell, so if you execute it, it will give an error."
   ]
  },
  {
   "cell_type": "markdown",
   "metadata": {},
   "source": [
    "In contrast, this is a text in a Markdown cell, and it reders beautifully.\n",
    "\n",
    "You can switch between cell types using the menu."
   ]
  },
  {
   "cell_type": "markdown",
   "metadata": {},
   "source": [
    "## Titles\n",
    "\n",
    "There are several section tiltle levels, depending on the number of # we prepend to the title:\n",
    "\n",
    "# main title\n",
    "\n",
    "## section title\n",
    "\n",
    "### subsection title\n",
    "\n",
    "o etc."
   ]
  },
  {
   "cell_type": "markdown",
   "metadata": {},
   "source": [
    "## Text formatting\n",
    "\n",
    "We can write _italic_ text ___either___ by surrounding your text with asteriscs (\\*) or underlines (\\_):"
   ]
  },
  {
   "cell_type": "markdown",
   "metadata": {},
   "source": [
    "*This is italic*\n",
    "\n",
    "_This is also italic_\n",
    "\n",
    "This is normal text"
   ]
  },
  {
   "cell_type": "markdown",
   "metadata": {},
   "source": [
    "We can write __bold__ text either by surrounding your text with two asteriscs (\\*\\*) or two underlines (\\_\\_). If you want to combine bold and italic you can use three symbols, or alternate the \\_) and \\* inside the sentence:"
   ]
  },
  {
   "cell_type": "markdown",
   "metadata": {},
   "source": [
    "**This is bold**\n",
    "\n",
    "\n",
    "**This is bold and italic**\n",
    "\n",
    "*This is italic, __bold italic__ and italic again*"
   ]
  },
  {
   "cell_type": "markdown",
   "metadata": {},
   "source": [
    "## Text code formatting\n",
    "\n",
    "In case you are interested to instert a piece of code in your notes, you can use a three open accent (\\`) environment. See tthe following examples:"
   ]
  },
  {
   "cell_type": "markdown",
   "metadata": {},
   "source": [
    "If you want to list the files is a _UNIX_ terminal directory you should use\n",
    "\n",
    "```terminal\n",
    "ls ../*.txt\n",
    "```\n",
    "\n",
    "One of the most typical python structure is the _list_. You can create lists using a _list comprehension_ structure\n",
    "\n",
    "```python\n",
    "mylist=[n**2 for n in range(10)]\n",
    "````\n",
    "\n",
    "Programing a function in _C++_ follows the following syntax \n",
    "\n",
    "```c\n",
    "// function returning the max between two numbers\n",
    " \n",
    "int max(int num1, int num2) {\n",
    "   // local variable declaration\n",
    "   int result;\n",
    " \n",
    "   if (num1 > num2)\n",
    "      result = num1;\n",
    "   else\n",
    "      result = num2;\n",
    " \n",
    "   return result; \n",
    "}\n",
    "````\n",
    "\n",
    "While the syntax for programming a function in _FORTRAN_ is\n",
    "\n",
    "```fortran\n",
    "function func(i) result(j)\n",
    "  integer, intent(in) :: i ! input\n",
    "  integer             :: j ! output\n",
    "  j = i**2 + i**3\n",
    "end function\n",
    "```"
   ]
  },
  {
   "cell_type": "markdown",
   "metadata": {},
   "source": [
    "## Highlighting\n",
    "\n",
    "\n",
    "We can `highlight` an word if we surround it by \\'\n",
    "\n",
    "~~~\n",
    "We can indent a block using triple ~.\n",
    "Adding as many paragraphs as you want.\n",
    "~~~\n",
    "\n",
    "Finally you can create a citation block using \\>, like this one\n",
    "\n",
    "> _En un lugar de la Mancha, de cuyo nombre no quiero acordarme, no ha mucho tiempo que vivía un hidalgo de los de lanza en astillero, adarga antigua, rocín flaco y galgo corredor. Una olla de algo más vaca que carnero, salpicón las más noches, duelos y quebrantos los sábados, lantejas los viernes, algún palomino de añadidura los domingos, consumían las tres partes de su hacienda._"
   ]
  },
  {
   "cell_type": "markdown",
   "metadata": {},
   "source": [
    "## Lists\n",
    "\n",
    "### Enumerated lists\n",
    "\n",
    " 1. First\n",
    " 2. Second\n",
    "\n",
    "### Plain lists\n",
    "\n",
    "- item\n",
    "- item\n",
    "\n",
    "### Indented lists\n",
    "1. First\n",
    "2. Second\n",
    "    * item\n",
    "        * item\n",
    "    * item\n"
   ]
  },
  {
   "cell_type": "markdown",
   "metadata": {},
   "source": [
    "## Tables\n",
    "\n",
    "You can write easily simple tables, including adjustment of the texts in the cells. Some examples are:\n",
    "\n",
    "```markdown\n",
    "\n",
    "  First Header   | Second Header\n",
    "  -------------  | -------------\n",
    "  _Content Cell_ | Content Cell\n",
    "  Content Cell   | Content Cell\n",
    "  \n",
    "```\n",
    "\n",
    "  First Header   | Second Header\n",
    "  -------------  | -------------\n",
    "  _Content Cell_ | Content Cell\n",
    "  Content Cell   | Content Cell\n",
    "\n",
    "\n",
    "```markdown\n",
    "\n",
    "  First Header   | Second Header\n",
    "  :-------------  | :-------------:\n",
    "  left justify | centered\n",
    "  left justify | centered\n",
    "  \n",
    "```\n",
    "\n",
    "  First Header   | Second Header\n",
    "  :-------------  | :-------------:\n",
    "  left justify | centered\n",
    "  left justify | centered"
   ]
  },
  {
   "cell_type": "markdown",
   "metadata": {},
   "source": [
    "## Mathematical expressions\n",
    "\n",
    "Markdown understands LaTeX!!!!\n",
    "\n",
    "\\begin{equation} \n",
    "i \\hbar \\frac{\\partial}{\\partial t} \\psi(t)= H \\psi(t) \n",
    "\\end{equation}\n",
    "\n",
    "Also inline equatiosn as this one: $E=mc^2$\n",
    "\n",
    "\n",
    "**TIP:**** As you may have noticed tables in Markdown are too simple and frequently not sufficiently elegant. Unofortunatelly markdown does not allow for further customization of the table.\n",
    "\n",
    "An alternative approach is to use TeX. As in the following example\n",
    "\n",
    "```tex\n",
    "$$\n",
    "\\begin{equation*}\n",
    "\\begin{array}{|l|c|}\n",
    "\\hline\n",
    "\\textbf{First Header} & \\textbf{Second Header} \\\\\n",
    "\\hline\n",
    "\\text{left justify} & \\text{centered}\\\\\n",
    "\\hline\n",
    "\\text{left justify} & \\text{centered}\\\\\n",
    "\\hline\n",
    "\\end{array}\n",
    "\\end{equation*}\n",
    "$$\n",
    "````\n",
    "<br/>\n",
    "<br/>\n",
    "\n",
    "$$\n",
    "\\begin{equation*}\n",
    "\\begin{array}{|l|c|}\n",
    "\\hline\n",
    "\\textbf{First Header} & \\textbf{Second Header} \\\\\n",
    "\\hline\n",
    "\\text{left justify} & \\text{centered}\\\\\n",
    "\\hline\n",
    "\\text{left justify} & \\text{centered}\\\\\n",
    "\\hline\n",
    "\\end{array} \n",
    "\\end{equation*}\n",
    "$$\n",
    "\n"
   ]
  },
  {
   "cell_type": "markdown",
   "metadata": {},
   "source": [
    "# Some advanced Markdown stuff\n",
    "\n",
    "\n",
    "## Including images\n",
    "\n",
    "While it is possible to paste images from the clipboard into your notebook, ths images cannot be resized or centered. Therefore it is better to store your png images in the same folder your notebook is, and to include them using html. See the following example,\n",
    "\n",
    "<img src=\"1-Markdown_images/usallogo.png\" alt=\"Description of image\"\n",
    "     width=\"300\" height=\"200\"\n",
    "     style=\"object-fit: contain; display: block; margin: auto; background-color: white;\"/>\n"
   ]
  },
  {
   "cell_type": "markdown",
   "metadata": {},
   "source": []
  },
  {
   "cell_type": "markdown",
   "metadata": {},
   "source": [
    "## Changing text colors and sizes\n",
    "\n",
    "It is not implemented in markdown. Therefore, if you what to uses colors and different forst sizes, you have to use html.\n",
    "\n",
    "As an example, you can  write text in <font color='blue' size=24>blue color and size 24pt</font>"
   ]
  },
  {
   "cell_type": "markdown",
   "metadata": {},
   "source": [
    "## Insert blank lines\n",
    "\n",
    "Intesrting blank lines is not supported in Markdown, but you can use the html code `<br/>`\n",
    "\n",
    "primera linea \n",
    "<br/><br/>\n",
    "tercera linea"
   ]
  }
 ],
 "metadata": {
  "kernelspec": {
   "display_name": "py312",
   "language": "python",
   "name": "python3"
  },
  "language_info": {
   "codemirror_mode": {
    "name": "ipython",
    "version": 3
   },
   "file_extension": ".py",
   "mimetype": "text/x-python",
   "name": "python",
   "nbconvert_exporter": "python",
   "pygments_lexer": "ipython3",
   "version": "3.12.3"
  },
  "scenes_data": {
   "active_scene": "Default Scene",
   "init_scene": "",
   "scenes": [
    "Default Scene"
   ]
  },
  "toc": {
   "base_numbering": 1,
   "nav_menu": {},
   "number_sections": true,
   "sideBar": true,
   "skip_h1_title": true,
   "title_cell": "Contenido",
   "title_sidebar": "Contents",
   "toc_cell": false,
   "toc_position": {
    "height": "calc(100% - 180px)",
    "left": "10px",
    "top": "150px",
    "width": "165px"
   },
   "toc_section_display": true,
   "toc_window_display": false
  },
  "toc-autonumbering": true,
  "toc-showcode": false,
  "toc-showmarkdowntxt": false,
  "toc-showtags": false,
  "varInspector": {
   "cols": {
    "lenName": 16,
    "lenType": 16,
    "lenVar": 40
   },
   "kernels_config": {
    "python": {
     "delete_cmd_postfix": "",
     "delete_cmd_prefix": "del ",
     "library": "var_list.py",
     "varRefreshCmd": "print(var_dic_list())"
    },
    "r": {
     "delete_cmd_postfix": ") ",
     "delete_cmd_prefix": "rm(",
     "library": "var_list.r",
     "varRefreshCmd": "cat(var_dic_list()) "
    }
   },
   "types_to_exclude": [
    "module",
    "function",
    "builtin_function_or_method",
    "instance",
    "_Feature"
   ],
   "window_display": false
  }
 },
 "nbformat": 4,
 "nbformat_minor": 4
}
