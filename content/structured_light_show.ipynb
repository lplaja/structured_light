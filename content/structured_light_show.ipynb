{
 "cells": [
  {
   "cell_type": "code",
   "execution_count": null,
   "id": "6ad0a744",
   "metadata": {},
   "outputs": [
    {
     "data": {
      "application/vnd.jupyter.widget-view+json": {
       "model_id": "848e7dd2000d4c17b234a6555b8ab111",
       "version_major": 2,
       "version_minor": 0
      },
      "text/plain": [
       "VBox(children=(HBox(children=(VBox(children=(FloatSlider(value=0.03338898163605819, description='z:', max=20.0…"
      ]
     },
     "metadata": {},
     "output_type": "display_data"
    }
   ],
   "source": [
    "import micropip\n",
    "await micropip.install(\"matplotlib\")\n",
    "await micropip.install(\"scipy\")\n",
    "await micropip.install(\"ipywidgets\")\n",
    "\n",
    "%matplotlib inline\n",
    "\n",
    "from fieldlib.field import Field, FieldSuperposition\n",
    "from fieldlib.spatial.volume import SpatialVolume\n",
    "from fieldlib.utils.plotting import density_plot_with_polarization\n",
    "import numpy as np\n",
    "\n",
    "# Define the spatial volume\n",
    "target_volume = SpatialVolume(\n",
    "    xlim=(-2e-3, 2e-3), ylim=(-2e-3, 2e-3), zlim=(-20, 20),\n",
    "    nx=300, ny=300, nz=600\n",
    ")\n",
    "\n",
    "# Define two Laguerre-Gauss beams with different polarizations\n",
    "beam1 = Field(\n",
    "    beam_type='LaguerreGauss',\n",
    "    wavelength=633e-9,\n",
    "    amplitude=1,\n",
    "    waist=1e-3,\n",
    "    volume=target_volume,\n",
    "    phase0=0,\n",
    "    mode_indices=(0, -1),  # (p, l)\n",
    "    polarization='x'\n",
    ")\n",
    "\n",
    "beam2 = Field(\n",
    "    beam_type='LaguerreGauss',\n",
    "    wavelength=633e-9,\n",
    "    amplitude=1,\n",
    "    waist=1e-3,\n",
    "    volume=target_volume,\n",
    "    phase0=0,\n",
    "    mode_indices=(0, 1),  # (p, l)\n",
    "    polarization='y'\n",
    ")\n",
    "\n",
    "# Superpose the two fields\n",
    "superposed = FieldSuperposition([beam1, beam2])\n",
    "\n",
    "# Show full field + polarization plots\n",
    "superposed.plot()\n",
    "\n",
    "\n"
   ]
  },
  {
   "cell_type": "code",
   "execution_count": null,
   "id": "e59e9b7f",
   "metadata": {},
   "outputs": [],
   "source": []
  }
 ],
 "metadata": {
  "kernelspec": {
   "display_name": "py312",
   "language": "python",
   "name": "python3"
  },
  "language_info": {
   "codemirror_mode": {
    "name": "ipython",
    "version": 3
   },
   "file_extension": ".py",
   "mimetype": "text/x-python",
   "name": "python",
   "nbconvert_exporter": "python",
   "pygments_lexer": "ipython3",
   "version": "3.12.3"
  }
 },
 "nbformat": 4,
 "nbformat_minor": 5
}
